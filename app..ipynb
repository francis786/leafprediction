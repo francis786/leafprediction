{
  "metadata": {
    "kernelspec": {
      "name": "python",
      "display_name": "Python (Pyodide)",
      "language": "python"
    },
    "language_info": {
      "codemirror_mode": {
        "name": "python",
        "version": 3
      },
      "file_extension": ".py",
      "mimetype": "text/x-python",
      "name": "python",
      "nbconvert_exporter": "python",
      "pygments_lexer": "ipython3",
      "version": "3.8"
    }
  },
  "nbformat_minor": 5,
  "nbformat": 4,
  "cells": [
    {
      "id": "3116bb19-9051-4458-9e25-31e56f44f69a",
      "cell_type": "code",
      "source": "import gradio as gr\nimport numpy as np\nfrom keras.models import load_model\nfrom keras.preprocessing import image\nimport json\n\n# ✅ Load trained model\nmodel = load_model(\"leaf_disease_model.h5\")\n\n# ✅ Load disease information JSON\nwith open(\"disease_info.json\", \"r\") as f:\n    disease_info = json.load(f)\n\n# ✅ Get class labels from JSON keys\nclass_names = list(disease_info.keys())\n\n# ✅ Define prediction function\ndef predict_disease(img):\n    img = img.resize((128, 128))\n    img_array = image.img_to_array(img)\n    img_array = np.expand_dims(img_array, axis=0)\n    img_array = img_array / 255.0\n\n    prediction = model.predict(img_array)\n    predicted_index = np.argmax(prediction)\n    predicted_label = class_names[predicted_index]\n    confidence = round(100 * np.max(prediction), 2)\n\n    # Disease details\n    description = disease_info[predicted_label][\"description\"]\n    spread = disease_info[predicted_label][\"spread\"]\n    cure = disease_info[predicted_label][\"cure\"]\n\n    result = f\"✅ Prediction: {predicted_label}\\n📊 Confidence: {confidence}%\\n\\n🩺 Description: {description}\\n🌿 Spread: {spread}\\n💊 Cure: {cure}\"\n    return result\n\n# ✅ Create Gradio UI\ninput_image = gr.Image(type=\"pil\", label=\"Upload Leaf Image\")\noutput_text = gr.Textbox(label=\"Disease Report\")\n\ngr.Interface(\n    fn=predict_disease,\n    inputs=input_image,\n    outputs=output_text,\n    title=\"🌱 Leaf Disease Detection AI Tool\",\n    description=\"Upload a leaf image to predict plant disease. You'll get its name, description, spreading condition & cure.\"\n).launch()",
      "metadata": {
        "trusted": true
      },
      "outputs": [],
      "execution_count": null
    },
    {
      "id": "a4482390-1ba9-444e-95fe-99afa0009af5",
      "cell_type": "code",
      "source": "",
      "metadata": {
        "trusted": true
      },
      "outputs": [],
      "execution_count": null
    }
  ]
}